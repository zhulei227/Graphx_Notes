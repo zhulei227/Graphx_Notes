{
 "cells": [
  {
   "cell_type": "markdown",
   "metadata": {},
   "source": [
    "关于Pagerank的原理，可以参考之前的实现[链接1>>](https://nbviewer.jupyter.org/github/zhulei227/ML_Notes/blob/master/notebooks/12_07_PGM_%E9%A9%AC%E5%B0%94%E7%A7%91%E5%A4%AB%E9%93%BE_PageRank%E7%AE%97%E6%B3%95.ipynb)  [链接2>>](https://nbviewer.jupyter.org/github/zhulei227/GNN_Notes/blob/master/04_DGL_02_%E5%AE%9E%E7%8E%B0PageRank.ipynb)  \n",
    "下面随机构造一个图，并做实现"
   ]
  },
  {
   "cell_type": "code",
   "execution_count": 1,
   "metadata": {},
   "outputs": [
    {
     "data": {
      "text/plain": [
       "sparkConf = org.apache.spark.SparkConf@4666bab3\n",
       "sc = org.apache.spark.SparkContext@664ef092\n"
      ]
     },
     "metadata": {},
     "output_type": "display_data"
    },
    {
     "data": {
      "text/plain": [
       "org.apache.spark.SparkContext@664ef092"
      ]
     },
     "execution_count": 1,
     "metadata": {},
     "output_type": "execute_result"
    }
   ],
   "source": [
    "import org.apache.spark.{SparkConf, SparkContext}\n",
    "import org.apache.spark.graphx._\n",
    "val sparkConf: SparkConf = new SparkConf().setMaster(\"local[2]\")\n",
    "val sc: SparkContext = new SparkContext(sparkConf)"
   ]
  },
  {
   "cell_type": "code",
   "execution_count": 2,
   "metadata": {},
   "outputs": [
    {
     "data": {
      "text/plain": [
       "initGraph = org.apache.spark.graphx.impl.GraphImpl@5d7f47de\n"
      ]
     },
     "metadata": {},
     "output_type": "display_data"
    },
    {
     "data": {
      "text/plain": [
       "org.apache.spark.graphx.impl.GraphImpl@5d7f47de"
      ]
     },
     "execution_count": 2,
     "metadata": {},
     "output_type": "execute_result"
    }
   ],
   "source": [
    "//随机构造一个图\n",
    "val initGraph=util.GraphGenerators.rmatGraph(sc,32,64) //随机初始化一个节点数最多为32，边数最多为64的图"
   ]
  },
  {
   "cell_type": "code",
   "execution_count": 3,
   "metadata": {},
   "outputs": [
    {
     "data": {
      "text/plain": [
       "16"
      ]
     },
     "execution_count": 3,
     "metadata": {},
     "output_type": "execute_result"
    }
   ],
   "source": [
    "initGraph.vertices.count()"
   ]
  },
  {
   "cell_type": "code",
   "execution_count": 4,
   "metadata": {},
   "outputs": [
    {
     "data": {
      "text/plain": [
       "selfGraph = org.apache.spark.graphx.impl.GraphImpl@7f066875\n"
      ]
     },
     "metadata": {},
     "output_type": "display_data"
    },
    {
     "data": {
      "text/plain": [
       "org.apache.spark.graphx.impl.GraphImpl@7f066875"
      ]
     },
     "execution_count": 4,
     "metadata": {},
     "output_type": "execute_result"
    }
   ],
   "source": [
    "//pregel实现\n",
    "val selfGraph=Pregel(initGraph.mapVertices((_,vd)=>(vd,1.0/16)),1.0/16,100)( //16是节点数\n",
    "    vprog=(_,vd,aggMsg)=>(vd._1,0.85*aggMsg+0.15/16), //这里设置resetProb=0.15\n",
    "    sendMsg=(edge)=>Iterator((edge.dstId,edge.srcAttr._2/edge.srcAttr._1)),\n",
    "    mergeMsg=(a,b)=>a+b\n",
    ").mapVertices((_,vd)=>vd._2*16)"
   ]
  },
  {
   "cell_type": "code",
   "execution_count": 5,
   "metadata": {},
   "outputs": [
    {
     "data": {
      "text/plain": [
       "Array((16,2.022300157203121), (22,1.167746470235807), (28,1.023335068036767), (30,0.8420814883333414), (24,0.8431845098653021), (18,1.3325951806895024), (20,1.1517014028419028), (26,0.710455927099921), (19,2.1114639088127105), (21,1.0465220830607251))"
      ]
     },
     "execution_count": 5,
     "metadata": {},
     "output_type": "execute_result"
    }
   ],
   "source": [
    "//计算结果\n",
    "selfGraph.vertices.take(10)"
   ]
  },
  {
   "cell_type": "code",
   "execution_count": 6,
   "metadata": {},
   "outputs": [
    {
     "data": {
      "text/plain": [
       "Array((16,2.0217148260788047), (22,1.1665910003289264), (28,1.0235198444017368), (30,0.8423639700025821), (24,0.8429749210336648), (18,1.331420403407613), (20,1.1518802564211323), (26,0.7113296025490913), (19,2.1093915011745707), (21,1.046301681892569))"
      ]
     },
     "execution_count": 6,
     "metadata": {},
     "output_type": "execute_result"
    }
   ],
   "source": [
    "//官方api结果\n",
    "initGraph.pageRank(tol=0.001,resetProb=0.15).vertices.take(10)"
   ]
  },
  {
   "cell_type": "code",
   "execution_count": null,
   "metadata": {},
   "outputs": [],
   "source": []
  }
 ],
 "metadata": {
  "kernelspec": {
   "display_name": "Spark2.4.8 - Scala",
   "language": "scala",
   "name": "spark2.4.8_scala"
  },
  "language_info": {
   "codemirror_mode": "text/x-scala",
   "file_extension": ".scala",
   "mimetype": "text/x-scala",
   "name": "scala",
   "pygments_lexer": "scala",
   "version": "2.11.12"
  }
 },
 "nbformat": 4,
 "nbformat_minor": 2
}
