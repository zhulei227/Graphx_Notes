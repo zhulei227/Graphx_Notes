{
 "cells": [
  {
   "cell_type": "markdown",
   "metadata": {},
   "source": [
    "强连通分量的定义是：任意两点互相可达的极大子图    \n",
    "\n",
    "spark求解的步骤可以拆为两步：   \n",
    "\n",
    "(1). 由于强连通分量内的任意一点必然既有入度又有出度，所以不满足该条件的单个顶点就是一个强连通分量，可以将其从原图中剔除;    \n",
    "\n",
    "\n",
    "(2). 对剩下节点，分别从边的Out的方向和In方向做DFS传输节点ID，每个节点对传送过来的节点ID取最小值，对Out和In处理后的俩个图做对比，具有相同取值的构成一个强连通分类，并将其剔除     \n",
    "\n",
    "\n",
    "(3). 重复(1)~(2)过程N次（这里的N就是API里面的iter_number)，整个过程可以如下例所示\n",
    "\n",
    "![avatar](./pic/spark求强连通分量.png)"
   ]
  },
  {
   "cell_type": "code",
   "execution_count": 1,
   "metadata": {},
   "outputs": [
    {
     "data": {
      "text/plain": [
       "sparkConf = org.apache.spark.SparkConf@63efee7d\n",
       "sc = org.apache.spark.SparkContext@1edcdb49\n"
      ]
     },
     "metadata": {},
     "output_type": "display_data"
    },
    {
     "data": {
      "text/plain": [
       "org.apache.spark.SparkContext@1edcdb49"
      ]
     },
     "execution_count": 1,
     "metadata": {},
     "output_type": "execute_result"
    }
   ],
   "source": [
    "import org.apache.spark.{SparkConf, SparkContext}\n",
    "import org.apache.spark.graphx._\n",
    "val sparkConf: SparkConf = new SparkConf().setMaster(\"local[2]\")\n",
    "val sc: SparkContext = new SparkContext(sparkConf)"
   ]
  },
  {
   "cell_type": "code",
   "execution_count": 2,
   "metadata": {},
   "outputs": [
    {
     "data": {
      "text/plain": [
       "verticesRDD = ParallelCollectionRDD[0] at parallelize at <console>:31\n",
       "edgesRDD = ParallelCollectionRDD[1] at parallelize at <console>:32\n",
       "graph = org.apache.spark.graphx.impl.GraphImpl@5fa9cef3\n"
      ]
     },
     "metadata": {},
     "output_type": "display_data"
    },
    {
     "data": {
      "text/plain": [
       "org.apache.spark.graphx.impl.GraphImpl@5fa9cef3"
      ]
     },
     "execution_count": 2,
     "metadata": {},
     "output_type": "execute_result"
    }
   ],
   "source": [
    "val verticesRDD=sc.parallelize(Array((1L,\"\"),(2L,\"\"),(3L,\"\"),(4L,\"\"),(5L,\"\"),(6L,\"\"),(7L,\"\"),(8L,\"\")))\n",
    "val edgesRDD=sc.parallelize(Array(Edge(1L,2L,\"\"),Edge(2L,3L,\"r1\"),Edge(3L,4L,\"\"),Edge(4L,2L,\"\"),Edge(4L,5L,\"\"),Edge(5L,6L,\"\"),Edge(6L,7L,\"\"),Edge(7L,5L,\"\"),Edge(6L,8L,\"\")))\n",
    "val graph=Graph(verticesRDD,edgesRDD)"
   ]
  },
  {
   "cell_type": "code",
   "execution_count": 3,
   "metadata": {},
   "outputs": [
    {
     "data": {
      "text/plain": [
       "Array((4,2), (6,5), (8,8), (2,2), (1,1), (3,2), (7,5), (5,5))"
      ]
     },
     "execution_count": 3,
     "metadata": {},
     "output_type": "execute_result"
    }
   ],
   "source": [
    "graph.stronglyConnectedComponents(3).vertices.take(10)s"
   ]
  },
  {
   "cell_type": "code",
   "execution_count": null,
   "metadata": {},
   "outputs": [],
   "source": []
  }
 ],
 "metadata": {
  "kernelspec": {
   "display_name": "Spark2.4.8 - Scala",
   "language": "scala",
   "name": "spark2.4.8_scala"
  },
  "language_info": {
   "codemirror_mode": "text/x-scala",
   "file_extension": ".scala",
   "mimetype": "text/x-scala",
   "name": "scala",
   "pygments_lexer": "scala",
   "version": "2.11.12"
  }
 },
 "nbformat": 4,
 "nbformat_minor": 2
}
