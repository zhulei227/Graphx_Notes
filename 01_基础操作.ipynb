{
 "cells": [
  {
   "cell_type": "markdown",
   "metadata": {},
   "source": [
    "### 一.构图\n",
    "只需要准备俩RDD即可，一个表示存储顶点的ID及其属性信息，另一个存储源顶点srcId，目标顶点dstId，以及边上的属性信息即可;  \n",
    "\n",
    "这里需要注意一下的是:  \n",
    "\n",
    "1. ID列都需要是Long类型   \n",
    "2. 构造边时需要用Edge类，而节点只需元组即可  \n",
    "3. graph默认都是有向边"
   ]
  },
  {
   "cell_type": "code",
   "execution_count": 1,
   "metadata": {},
   "outputs": [
    {
     "data": {
      "text/plain": [
       "sparkConf = org.apache.spark.SparkConf@4b8fc9ac\n",
       "sc = org.apache.spark.SparkContext@257fbf29\n"
      ]
     },
     "metadata": {},
     "output_type": "display_data"
    },
    {
     "data": {
      "text/plain": [
       "org.apache.spark.SparkContext@257fbf29"
      ]
     },
     "execution_count": 1,
     "metadata": {},
     "output_type": "execute_result"
    }
   ],
   "source": [
    "import org.apache.spark.{SparkConf, SparkContext}\n",
    "import org.apache.spark.graphx._\n",
    "val sparkConf: SparkConf = new SparkConf().setMaster(\"local[2]\")\n",
    "val sc: SparkContext = new SparkContext(sparkConf)"
   ]
  },
  {
   "cell_type": "code",
   "execution_count": 2,
   "metadata": {},
   "outputs": [
    {
     "data": {
      "text/plain": [
       "verticesRDD = ParallelCollectionRDD[0] at parallelize at <console>:31\n",
       "edgesRDD = ParallelCollectionRDD[1] at parallelize at <console>:32\n",
       "graph = org.apache.spark.graphx.impl.GraphImpl@41dd9ae8\n"
      ]
     },
     "metadata": {},
     "output_type": "display_data"
    },
    {
     "data": {
      "text/plain": [
       "org.apache.spark.graphx.impl.GraphImpl@41dd9ae8"
      ]
     },
     "execution_count": 2,
     "metadata": {},
     "output_type": "execute_result"
    }
   ],
   "source": [
    "val verticesRDD=sc.parallelize(Array((1L,\"a\"),(2L,\"b\"),(3L,\"c\"),(4L,\"d\"),(5L,\"e\")))\n",
    "val edgesRDD=sc.parallelize(Array(Edge(1L,2L,\"r1\"),Edge(2L,3L,\"r1\"),Edge(3L,4L,\"r2\"),Edge(4L,5L,\"r3\"),Edge(3L,5L,\"r2\")))\n",
    "val graph=Graph(verticesRDD,edgesRDD)"
   ]
  },
  {
   "cell_type": "markdown",
   "metadata": {},
   "source": [
    "### 二.查看出入度\n",
    "出入度属性可以通过api直接查看，不过需要注意的是返回类型是RDD"
   ]
  },
  {
   "cell_type": "code",
   "execution_count": 3,
   "metadata": {},
   "outputs": [
    {
     "data": {
      "text/plain": [
       "Array((4,1), (2,1), (3,1), (5,2))"
      ]
     },
     "execution_count": 3,
     "metadata": {},
     "output_type": "execute_result"
    }
   ],
   "source": [
    "//入度\n",
    "graph.inDegrees.take(10)"
   ]
  },
  {
   "cell_type": "code",
   "execution_count": 4,
   "metadata": {},
   "outputs": [
    {
     "data": {
      "text/plain": [
       "Array((4,1), (2,1), (1,1), (3,2))"
      ]
     },
     "execution_count": 4,
     "metadata": {},
     "output_type": "execute_result"
    }
   ],
   "source": [
    "//出度\n",
    "graph.outDegrees.take(10)"
   ]
  },
  {
   "cell_type": "markdown",
   "metadata": {},
   "source": [
    "### 三.添加/修改节点属性\n",
    "上面我们为5个节点分别赋予了a~e的字符属性，我们还想为其添加新属性该怎么操作，两类方式：   \n",
    "\n",
    "1.一类是直接对RDD进行操作即可，由于返回结果是RDD，所以需要再次调用Graph封装  \n",
    "2.另一类是调用graph上的api，返回结果直接就是Graph"
   ]
  },
  {
   "cell_type": "code",
   "execution_count": 5,
   "metadata": {},
   "outputs": [
    {
     "data": {
      "text/plain": [
       "Array((4,(d,1)), (2,(b,1)), (1,(a,1)), (3,(c,1)), (5,(e,1)))"
      ]
     },
     "execution_count": 5,
     "metadata": {},
     "output_type": "execute_result"
    }
   ],
   "source": [
    "//rdd\n",
    "Graph(verticesRDD.map(x=>(x._1,(x._2,1))),graph.edges).vertices.take(10)"
   ]
  },
  {
   "cell_type": "code",
   "execution_count": 6,
   "metadata": {},
   "outputs": [
    {
     "data": {
      "text/plain": [
       "Array((4,(d,1)), (2,(b,1)), (1,(a,1)), (3,(c,1)), (5,(e,1)))"
      ]
     },
     "execution_count": 6,
     "metadata": {},
     "output_type": "execute_result"
    }
   ],
   "source": [
    "//api\n",
    "graph.mapVertices((vertexId,vertexAttr)=>(vertexAttr,1)).vertices.take(10)"
   ]
  },
  {
   "cell_type": "markdown",
   "metadata": {},
   "source": [
    "### 四.添加/修改边上的属性\n",
    "与节点操作类似，两类方式，RDD和调用api"
   ]
  },
  {
   "cell_type": "code",
   "execution_count": 7,
   "metadata": {},
   "outputs": [
    {
     "data": {
      "text/plain": [
       "Array(Edge(1,2,(r1,1)), Edge(2,3,(r1,1)), Edge(3,4,(r2,1)), Edge(3,5,(r2,1)), Edge(4,5,(r3,1)))"
      ]
     },
     "execution_count": 7,
     "metadata": {},
     "output_type": "execute_result"
    }
   ],
   "source": [
    "//rdd\n",
    "Graph(graph.vertices,edgesRDD.map(edge=>Edge(edge.srcId,edge.dstId,(edge.attr,1)))).edges.take(10)"
   ]
  },
  {
   "cell_type": "code",
   "execution_count": 8,
   "metadata": {},
   "outputs": [
    {
     "data": {
      "text/plain": [
       "Array(Edge(1,2,(r1,1)), Edge(2,3,(r1,1)), Edge(3,4,(r2,1)), Edge(3,5,(r2,1)), Edge(4,5,(r3,1)))"
      ]
     },
     "execution_count": 8,
     "metadata": {},
     "output_type": "execute_result"
    }
   ],
   "source": [
    "//api\n",
    "graph.mapEdges(edge=>(edge.attr,1)).edges.take(10)"
   ]
  },
  {
   "cell_type": "markdown",
   "metadata": {},
   "source": [
    "### 五.同时利用节点和边的信息\n",
    "\n",
    "如果想同时利用边的信息以及其关联的俩节点信息，如何处理呢，也是两种方式：   \n",
    "\n",
    "1.RDD：利用边RDD的srcID去join 节点RDD，然后再使用dstID去join 节点RDD，这样得到的新RDD的每一行就都包括了所有的信息，然后再操作   \n",
    "2.API：使用mapTriplets函数，它的输入包括5个属性，分别是边属性attr,源节点srcId,srcAttr,目标节点dstId,dstAttr,它的输出会直接更新为边attr  \n",
    "\n",
    "通过这个api，我们可以做一些复杂点的操作，比如我们想给边添加一个新属性，生成该属性的规则是：如果源节点或者目标节点的属性为\"e\",或者边的属性为\"r2\"则返回1,否则返回0"
   ]
  },
  {
   "cell_type": "code",
   "execution_count": 9,
   "metadata": {},
   "outputs": [
    {
     "data": {
      "text/plain": [
       "Array(Edge(1,2,(r1,0)), Edge(2,3,(r1,0)), Edge(3,4,(r2,1)), Edge(3,5,(r2,1)), Edge(4,5,(r3,1)))"
      ]
     },
     "execution_count": 9,
     "metadata": {},
     "output_type": "execute_result"
    }
   ],
   "source": [
    "graph.mapTriplets(edge=>{\n",
    "    val newValue=if(edge.srcAttr==\"e\" || edge.dstAttr==\"e\" || edge.attr==\"r2\") 1 else 0\n",
    "    (edge.attr,newValue)}\n",
    ").edges.take(10)"
   ]
  },
  {
   "cell_type": "code",
   "execution_count": null,
   "metadata": {},
   "outputs": [],
   "source": []
  }
 ],
 "metadata": {
  "kernelspec": {
   "display_name": "Spark2.4.8 - Scala",
   "language": "scala",
   "name": "spark2.4.8_scala"
  },
  "language_info": {
   "codemirror_mode": "text/x-scala",
   "file_extension": ".scala",
   "mimetype": "text/x-scala",
   "name": "scala",
   "pygments_lexer": "scala",
   "version": "2.11.12"
  }
 },
 "nbformat": 4,
 "nbformat_minor": 2
}
