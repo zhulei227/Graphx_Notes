{
 "cells": [
  {
   "cell_type": "markdown",
   "metadata": {},
   "source": [
    "求最短距离的思路可以分成如下3步：   \n",
    "\n",
    "1. 设置目标节点的attr=0，其余节点设置为无穷大 attr=Inf   \n",
    "2. 从目标节点逆向往外传播 attr+1   \n",
    "3. 每个节点对所有邻居消息以及当前的节点的attr取min,更新atrr  \n",
    "\n",
    "重复2～3直到收敛，流程图大概如下：   \n",
    "![avatar](./pic/最短距离.png)"
   ]
  },
  {
   "cell_type": "code",
   "execution_count": 1,
   "metadata": {},
   "outputs": [
    {
     "data": {
      "text/plain": [
       "sparkConf = org.apache.spark.SparkConf@746f5564\n",
       "sc = org.apache.spark.SparkContext@528f02d9\n"
      ]
     },
     "metadata": {},
     "output_type": "display_data"
    },
    {
     "data": {
      "text/plain": [
       "org.apache.spark.SparkContext@528f02d9"
      ]
     },
     "execution_count": 1,
     "metadata": {},
     "output_type": "execute_result"
    }
   ],
   "source": [
    "import org.apache.spark.{SparkConf, SparkContext}\n",
    "import org.apache.spark.graphx._\n",
    "val sparkConf: SparkConf = new SparkConf().setMaster(\"local[2]\")\n",
    "val sc: SparkContext = new SparkContext(sparkConf)"
   ]
  },
  {
   "cell_type": "code",
   "execution_count": 2,
   "metadata": {},
   "outputs": [
    {
     "data": {
      "text/plain": [
       "initGraph = org.apache.spark.graphx.impl.GraphImpl@72eddc52\n"
      ]
     },
     "metadata": {},
     "output_type": "display_data"
    },
    {
     "data": {
      "text/plain": [
       "org.apache.spark.graphx.impl.GraphImpl@72eddc52"
      ]
     },
     "execution_count": 2,
     "metadata": {},
     "output_type": "execute_result"
    }
   ],
   "source": [
    "val initGraph=util.GraphGenerators.rmatGraph(sc,32,64).\n",
    "                           removeSelfEdges().\n",
    "                           mapVertices((vid,_)=>{\n",
    "                               val sourId=16L  //目标节点设置为16\n",
    "                               if(vid==sourId) 0.0 else Double.PositiveInfinity\n",
    "                           })"
   ]
  },
  {
   "cell_type": "code",
   "execution_count": 3,
   "metadata": {},
   "outputs": [
    {
     "data": {
      "text/plain": [
       "Array((16,0.0), (22,Infinity), (28,Infinity), (30,Infinity), (24,Infinity), (18,Infinity), (20,Infinity), (26,Infinity), (19,Infinity), (21,Infinity), (25,Infinity), (29,Infinity), (27,Infinity), (23,Infinity), (17,Infinity), (31,Infinity))"
      ]
     },
     "execution_count": 3,
     "metadata": {},
     "output_type": "execute_result"
    }
   ],
   "source": [
    "initGraph.vertices.take(32)"
   ]
  },
  {
   "cell_type": "code",
   "execution_count": 4,
   "metadata": {},
   "outputs": [
    {
     "data": {
      "text/plain": [
       "finalGraph = org.apache.spark.graphx.impl.GraphImpl@2c7d89f4\n"
      ]
     },
     "metadata": {},
     "output_type": "display_data"
    },
    {
     "data": {
      "text/plain": [
       "org.apache.spark.graphx.impl.GraphImpl@2c7d89f4"
      ]
     },
     "execution_count": 4,
     "metadata": {},
     "output_type": "execute_result"
    }
   ],
   "source": [
    "val finalGraph=Pregel(initGraph,initialMsg=Double.PositiveInfinity,maxIterations=32)(\n",
    "    vprog=(_,vd,aggMsg)=>math.min(vd,aggMsg),\n",
    "    sendMsg=(edge)=>if(edge.dstAttr!=Double.PositiveInfinity) Iterator((edge.srcId,edge.dstAttr+1)) else Iterator.empty,\n",
    "    mergeMsg=(a,b)=>math.min(a,b)\n",
    ")"
   ]
  },
  {
   "cell_type": "code",
   "execution_count": 5,
   "metadata": {},
   "outputs": [
    {
     "data": {
      "text/plain": [
       "Array((16,0.0), (22,1.0), (28,2.0), (30,2.0), (24,2.0), (18,1.0), (20,1.0), (26,1.0), (19,2.0), (21,3.0), (25,1.0), (29,Infinity), (27,2.0), (23,2.0), (17,2.0), (31,3.0))"
      ]
     },
     "execution_count": 5,
     "metadata": {},
     "output_type": "execute_result"
    }
   ],
   "source": [
    "//计算结果\n",
    "finalGraph.vertices.take(32)"
   ]
  },
  {
   "cell_type": "code",
   "execution_count": 6,
   "metadata": {},
   "outputs": [
    {
     "data": {
      "text/plain": [
       "Array((16,Map(16 -> 0)), (22,Map(16 -> 1)), (28,Map(16 -> 2)), (30,Map(16 -> 2)), (24,Map(16 -> 2)), (18,Map(16 -> 1)), (20,Map(16 -> 1)), (26,Map(16 -> 1)), (19,Map(16 -> 2)), (21,Map(16 -> 3)), (25,Map(16 -> 1)), (29,Map()), (27,Map(16 -> 2)), (23,Map(16 -> 2)), (17,Map(16 -> 2)), (31,Map(16 -> 3)))"
      ]
     },
     "execution_count": 6,
     "metadata": {},
     "output_type": "execute_result"
    }
   ],
   "source": [
    "//官方结果\n",
    "lib.ShortestPaths.run(initGraph,Array(16L)).vertices.take(32)"
   ]
  },
  {
   "cell_type": "code",
   "execution_count": null,
   "metadata": {},
   "outputs": [],
   "source": []
  }
 ],
 "metadata": {
  "kernelspec": {
   "display_name": "Spark2.4.8 - Scala",
   "language": "scala",
   "name": "spark2.4.8_scala"
  },
  "language_info": {
   "codemirror_mode": "text/x-scala",
   "file_extension": ".scala",
   "mimetype": "text/x-scala",
   "name": "scala",
   "pygments_lexer": "scala",
   "version": "2.11.12"
  }
 },
 "nbformat": 4,
 "nbformat_minor": 2
}
